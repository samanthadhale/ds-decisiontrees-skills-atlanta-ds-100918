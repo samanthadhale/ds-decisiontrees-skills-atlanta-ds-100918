{
 "cells": [
  {
   "cell_type": "markdown",
   "metadata": {},
   "source": [
    "# Classification with Decision Trees\n",
    "\n",
    "## Objectives\n",
    "* Describe decision trees to solve supervised classification problems.\n",
    "* Understand the idea and maths behind calculating entropy and information gain. \n",
    "* Calculate entropy for a simple toy problem to build a DT.\n",
    "---"
   ]
  },
  {
   "cell_type": "markdown",
   "metadata": {},
   "source": [
    "### Decision Trees\n",
    "Decision trees are tree structured (i.e. having a hierarchy), supervised learning algorithm that are mostly used in classification problems. It works for both categorical and continuous input and output variables. In this technique, we split the data into two or more homogeneous sets based on most significant differentiator in input variables. A decision tree can be used to visually and explicitly represent decisions and decision making so it remains highly explainable. DTs are highly popular tools in data mining, statistics for deriving a strategy to reach a particular goal. In this lesson, we shall focus on predictive abilities of a decision tree in the context of Machine Learning. \n",
    "\n",
    "Following is a simple decision tree highlighting and visualizing decisions that most of us have to make every morning :)\n",
    "\n",
    "![](exampletree.jpg)\n",
    "\n",
    "\n"
   ]
  },
  {
   "cell_type": "markdown",
   "metadata": {},
   "source": [
    "## Decision Tree Terminology\n",
    "\n",
    "Following the intuition from the above figure, let's try to identify different nodes/edges and levels of heirarchy in a tree. \n",
    "\n",
    "\n",
    "#### Root Node: \n",
    "A root node is a the top of hierarchy and is responisble for creating a first split on the given data. It divides the data based on two or more homogeneous sets (depending upon classes in the given variable).\n",
    "#### Splitting: \n",
    "Splitting is the term given to the process of dividing a node into two or more sub-nodes.\n",
    "#### Decision Node: \n",
    "The decision node (in yellow below) decides whether to split the data into further sub-nodes or not\n",
    "#### Leaf: \n",
    "Leaf nodes exist at the lowest end on the hierachy in a brach and do not split any further highlighting that the model can not go any further. \n",
    "\n"
   ]
  },
  {
   "cell_type": "markdown",
   "metadata": {},
   "source": [
    "![](tree_term.jpg)"
   ]
  },
  {
   "cell_type": "markdown",
   "metadata": {},
   "source": [
    "## Building a decision tree\n",
    "\n",
    "The process of training a decision tree and predicting the target features is as follows:\n",
    "\n",
    "1. Present a dataset containing of a number of training instances characterized by a number of descriptive features and a target feature.\n",
    "\n",
    "2. Train the decision tree model by continuously splitting the target feature along the values of the descriptive features using a measure of information gain during the training process.\n",
    "\n",
    "3. Grow the tree until we accomplish a stopping criteria i.e. create leaf nodes which represent the predictions we want to make for a new instance.\n",
    "\n",
    "4. Show new instances to the tree and run down the tree until we arrive at leaf nodes.\n",
    "\n",
    "5. DONE.\n",
    "\n",
    "![](dtprocess.png)\n",
    "\n",
    "From above figure , following provides a good intuition for building a decision tree. \n",
    "\n",
    ">*Given a dataset, train a model which learns the relationship between the descriptive features and a target feature. We can then present the model with new, unseen instances and predict the target feature values for these.*\n",
    "\n",
    "At this stage, it must be highlighted that selection of root nodes and splitting decisions are not totally random processes. We need to take a quick dive into some simple mathematics around informatiom theoratic concepts of **ENTROPY** and **INFORMATION GAIN** which would help us answer following questions. \n",
    "\n",
    "* Which attribute should be chosen as for being the Root/Parent Node?\n",
    "* When should we split / not split the data any further ?\n",
    "\n",
    "You should also remember that decision trees can be used for classification as well as regression problems. In this lab, we are focusing on classification only as regression will be covered during a later session. "
   ]
  },
  {
   "cell_type": "markdown",
   "metadata": {},
   "source": [
    "## Entropy\n",
    "\n",
    "Entropy is a measure of uncertainty, and highlights unpredictability of a state, or equivalently, of its average information content. Entropy is a statistical metric that measures the impurity. Given a dataset S, which contains two classes: Positive and Negative, of some arbitrary target concept, entropy with respect to this boolean classification is:\n",
    "\n",
    ">** Entropy(S) = -p(positive)log2 p(positive) — p(negative) log2 p(negative)**\n",
    "\n",
    "where \n",
    "\n",
    "* p(positive) is the probability of positive examples in S.\n",
    "\n",
    "* p(negative) is the proportion of negative examples in S. \n",
    "\n",
    "**Notice that the entropy is 0 if all members of S belong to the same class. For example, if all members are positive (p+ = 1), then p- is 0, and Entropy(S) = -1. log2(1) – 0. log2 0 = -1. 0 – 0. log2 0 = 0.**\n",
    "\n",
    "The entropy is 1 when the collection contains an equal number of positive and negative examples.\n",
    "\n",
    "If the collection contains unequal numbers of positive and negative examples, the entropy is between 0 and 1.\n",
    "\n",
    "![](ent_prob.png)\n",
    "\n",
    "Another intuition for understanding entropy is that, entropy specifies the minimum number of bits required to encode the classification of any member of a collection S. In general the entropy of a variable x is given as:\n",
    "![](ent.jpg)"
   ]
  },
  {
   "cell_type": "markdown",
   "metadata": {},
   "source": [
    "## Information Gain\n",
    "\n",
    "Information gain is a metric that measures the expected reduction in the impurity of the collection S, caused by splitting the data according to any given attribute. Whilst building the decision tree, the information gain metric is used to select the best attribute i.e. the attribute the provides the “best split” at each level.\n",
    "\n",
    "IG measures the expected reduction in entropy and decides which attribute goes into a decision node. To minimise the decision tree depth, the attribute with the most entropy reduction is chosen by the DT algorithm.\n",
    "\n",
    "More precisely, the information gain Gain(S, A) of an attribute A relative to a collection of examples S is defined as:\n",
    "![](IG.png)\n",
    "\n",
    "* S = Each value v of all possible values of attribute A\n",
    "* Sv = Subset of S for which attribute A has value v\n",
    "* |Sv| = Number of elements in Sv\n",
    "* |S| = Number of elements in S\n"
   ]
  },
  {
   "cell_type": "markdown",
   "metadata": {},
   "source": [
    "Let's see above mathamatical descriptions in action with a simple decision \"SHOULD I PLAY BASEBALL?\" as shown below:"
   ]
  },
  {
   "cell_type": "code",
   "execution_count": 1,
   "metadata": {},
   "outputs": [
    {
     "name": "stdout",
     "output_type": "stream",
     "text": [
      "    Day   Outlook Temperature Humidity    Wind Should I play baseball?\n",
      "0    D1     Sunny         Hot     High    Weak                      No\n",
      "1    D2     Sunny         Hot     High  Strong                      No\n",
      "2    D3  Overcast         Hot     High    Weak                     Yes\n",
      "3    D4      Rain        Mild     High    Weak                     Yes\n",
      "4    D5      Rain        Cool   Normal    Weak                     Yes\n",
      "5    D6      Rain        Cool   Normal  Strong                      No\n",
      "6    D7  Overcast        Cool   Normal  Strong                     Yes\n",
      "7    D8     Sunny        Mild     High    Weak                      No\n",
      "8    D9     Sunny        Cool   Normal    Weak                     Yes\n",
      "9   D10      Rain        Mild   Normal    Weak                     Yes\n",
      "10  D11     Sunny        Mild   Normal  Strong                     Yes\n",
      "11  D12  Overcast        Mild     High  Strong                     Yes\n",
      "12  D13  Overcast         Hot   Normal    Weak                     Yes\n",
      "13  D14      Rain        Mild     High  Strong                      No\n"
     ]
    }
   ],
   "source": [
    "import pandas as pd \n",
    "baseball = pd.read_csv('baseball.csv', header = 1)\n",
    "baseball.columns\n",
    "print(baseball)"
   ]
  },
  {
   "cell_type": "markdown",
   "metadata": {},
   "source": [
    "At this stage, it is a good practice to explicitly specify the columns which are categorical using `.astype()` method."
   ]
  },
  {
   "cell_type": "code",
   "execution_count": 2,
   "metadata": {},
   "outputs": [
    {
     "data": {
      "text/html": [
       "<div>\n",
       "<style scoped>\n",
       "    .dataframe tbody tr th:only-of-type {\n",
       "        vertical-align: middle;\n",
       "    }\n",
       "\n",
       "    .dataframe tbody tr th {\n",
       "        vertical-align: top;\n",
       "    }\n",
       "\n",
       "    .dataframe thead th {\n",
       "        text-align: right;\n",
       "    }\n",
       "</style>\n",
       "<table border=\"1\" class=\"dataframe\">\n",
       "  <thead>\n",
       "    <tr style=\"text-align: right;\">\n",
       "      <th></th>\n",
       "      <th>Day</th>\n",
       "      <th>Outlook</th>\n",
       "      <th>Temperature</th>\n",
       "      <th>Humidity</th>\n",
       "      <th>Wind</th>\n",
       "      <th>Should I play baseball?</th>\n",
       "    </tr>\n",
       "  </thead>\n",
       "  <tbody>\n",
       "    <tr>\n",
       "      <th>count</th>\n",
       "      <td>14</td>\n",
       "      <td>14</td>\n",
       "      <td>14</td>\n",
       "      <td>14</td>\n",
       "      <td>14</td>\n",
       "      <td>14</td>\n",
       "    </tr>\n",
       "    <tr>\n",
       "      <th>unique</th>\n",
       "      <td>14</td>\n",
       "      <td>3</td>\n",
       "      <td>3</td>\n",
       "      <td>2</td>\n",
       "      <td>2</td>\n",
       "      <td>2</td>\n",
       "    </tr>\n",
       "    <tr>\n",
       "      <th>top</th>\n",
       "      <td>D9</td>\n",
       "      <td>Sunny</td>\n",
       "      <td>Mild</td>\n",
       "      <td>Normal</td>\n",
       "      <td>Weak</td>\n",
       "      <td>Yes</td>\n",
       "    </tr>\n",
       "    <tr>\n",
       "      <th>freq</th>\n",
       "      <td>1</td>\n",
       "      <td>5</td>\n",
       "      <td>6</td>\n",
       "      <td>7</td>\n",
       "      <td>8</td>\n",
       "      <td>9</td>\n",
       "    </tr>\n",
       "  </tbody>\n",
       "</table>\n",
       "</div>"
      ],
      "text/plain": [
       "       Day Outlook Temperature Humidity  Wind Should I play baseball?\n",
       "count   14      14          14       14    14                      14\n",
       "unique  14       3           3        2     2                       2\n",
       "top     D9   Sunny        Mild   Normal  Weak                     Yes\n",
       "freq     1       5           6        7     8                       9"
      ]
     },
     "execution_count": 2,
     "metadata": {},
     "output_type": "execute_result"
    }
   ],
   "source": [
    "for column in baseball.columns:\n",
    "    baseball[column] = baseball[column].astype('category')\n",
    "baseball.describe()"
   ]
  },
  {
   "cell_type": "markdown",
   "metadata": {},
   "source": [
    "We need to find which attribute will be the root node in our decision tree.\n",
    "\n",
    "STEP 1 : Calculate the total entropy"
   ]
  },
  {
   "cell_type": "code",
   "execution_count": 3,
   "metadata": {},
   "outputs": [
    {
     "data": {
      "text/plain": [
       "Yes    9\n",
       "No     5\n",
       "Name: Should I play baseball?, dtype: int64"
      ]
     },
     "execution_count": 3,
     "metadata": {},
     "output_type": "execute_result"
    }
   ],
   "source": [
    "baseball['Should I play baseball?'].value_counts()"
   ]
  },
  {
   "cell_type": "markdown",
   "metadata": {},
   "source": [
    "### Initial Entropy"
   ]
  },
  {
   "cell_type": "code",
   "execution_count": 4,
   "metadata": {},
   "outputs": [
    {
     "name": "stdout",
     "output_type": "stream",
     "text": [
      "0.9402859586706309\n"
     ]
    }
   ],
   "source": [
    "import math\n",
    "Ent_S = -(9/14)*math.log((9/14),2) - (5/14)*math.log((5/14),2) \n",
    "print (Ent_S)"
   ]
  },
  {
   "cell_type": "markdown",
   "metadata": {},
   "source": [
    "### The Root Node"
   ]
  },
  {
   "cell_type": "markdown",
   "metadata": {},
   "source": [
    "Check out Wind to be root node:"
   ]
  },
  {
   "cell_type": "code",
   "execution_count": 5,
   "metadata": {},
   "outputs": [
    {
     "data": {
      "text/plain": [
       "Weak      8\n",
       "Strong    6\n",
       "Name: Wind, dtype: int64"
      ]
     },
     "execution_count": 5,
     "metadata": {},
     "output_type": "execute_result"
    }
   ],
   "source": [
    "baseball['Wind'].value_counts()"
   ]
  },
  {
   "cell_type": "code",
   "execution_count": 6,
   "metadata": {},
   "outputs": [
    {
     "name": "stdout",
     "output_type": "stream",
     "text": [
      "0.8112781244591328\n",
      "1.0\n"
     ]
    }
   ],
   "source": [
    "Entropy_S_weak = - (6/8)*math.log((6/8),2) - (2/8)*math.log((2/8),2) \n",
    "print (Entropy_S_weak )\n",
    "Entropy_S_strong = - (3/6)*math.log((3/6),2) - (3/6)*math.log((3/6),2)\n",
    "print (Entropy_S_strong)\n",
    "\n",
    "Gain_S_wind = Ent_S - (8/14)* Entropy_S_weak - (6/14)* Entropy_S_strong\n"
   ]
  },
  {
   "cell_type": "code",
   "execution_count": 7,
   "metadata": {},
   "outputs": [
    {
     "data": {
      "text/plain": [
       "0.04812703040826932"
      ]
     },
     "execution_count": 7,
     "metadata": {},
     "output_type": "execute_result"
    }
   ],
   "source": [
    "Gain_S_wind "
   ]
  },
  {
   "cell_type": "code",
   "execution_count": 8,
   "metadata": {},
   "outputs": [],
   "source": [
    "Gain_S_outlook = 0.246\n",
    "Gain_S_temperature = 0.029\n",
    "Gain_S_humidity = 0.151"
   ]
  },
  {
   "cell_type": "markdown",
   "metadata": {},
   "source": [
    "Clearly, the outlook attribute has the highest gain. Therefore, it is used as the decision attribute in the root node."
   ]
  },
  {
   "cell_type": "code",
   "execution_count": 9,
   "metadata": {},
   "outputs": [
    {
     "data": {
      "text/plain": [
       "Sunny       5\n",
       "Rain        5\n",
       "Overcast    4\n",
       "Name: Outlook, dtype: int64"
      ]
     },
     "execution_count": 9,
     "metadata": {},
     "output_type": "execute_result"
    }
   ],
   "source": [
    "baseball['Outlook'].value_counts()"
   ]
  },
  {
   "cell_type": "markdown",
   "metadata": {},
   "source": [
    "Since outlook has three possible values, the root node has three branches (sunny, overcast, rain). \n",
    "\n",
    "The next question is, What attribute should be tested at the sunny branch node? Since we've used outlook at the root, we only decide on the remaining three attributes: humidity, temperature, or wind."
   ]
  },
  {
   "cell_type": "markdown",
   "metadata": {},
   "source": [
    "Ssunny = {D1, D2, D8, D9, D11} = 5 examples from the table with outlook = sunny\n",
    "\n",
    "Gain_Ssunny_humidity = 0.970\n",
    "\n",
    "Gain_Ssunny_temperature = 0.570\n",
    "\n",
    "Gain_Ssunny_Wind = 0.019"
   ]
  },
  {
   "cell_type": "markdown",
   "metadata": {},
   "source": [
    "Humidity has the highest gain; therefore, it is used as the decision node. This process goes on until all data is classified perfectly or we run out of attributes."
   ]
  },
  {
   "cell_type": "markdown",
   "metadata": {},
   "source": [
    "![](finaltree.gif)"
   ]
  },
  {
   "cell_type": "markdown",
   "metadata": {},
   "source": [
    "The decision tree can also be expressed in rule format:\n",
    "\n",
    "IF `outlook = sunny` AND `humidity = high` THEN `play baseball = no`\n",
    "\n",
    "IF `outlook = rain` AND `humidity = high` THEN `play baseball = no`\n",
    "\n",
    "IF `outlook = rain` AND `wind = strong` THEN `play baseball = yes`\n",
    "\n",
    "IF `outlook = overcast` THEN `play baseball = yes`\n",
    "\n",
    "IF `outlook = rain` AND `wind = weak` THEN `play baseball = yes`"
   ]
  },
  {
   "cell_type": "markdown",
   "metadata": {},
   "source": [
    "That’s all mathematical understanding you need to understand Decision Tree. If you think this concept is overwhelming then don’t be. Take it as a learning process like any other skills to learn you need to give some Time & constant Motivation."
   ]
  },
  {
   "cell_type": "code",
   "execution_count": 10,
   "metadata": {},
   "outputs": [
    {
     "ename": "ModuleNotFoundError",
     "evalue": "No module named 'graphviz'",
     "output_type": "error",
     "traceback": [
      "\u001b[0;31m\u001b[0m",
      "\u001b[0;31mModuleNotFoundError\u001b[0mTraceback (most recent call last)",
      "\u001b[0;32m<ipython-input-10-33e881b3f529>\u001b[0m in \u001b[0;36m<module>\u001b[0;34m()\u001b[0m\n\u001b[1;32m      1\u001b[0m \u001b[0;32mfrom\u001b[0m \u001b[0msklearn\u001b[0m\u001b[0;34m.\u001b[0m\u001b[0mdatasets\u001b[0m \u001b[0;32mimport\u001b[0m \u001b[0;34m*\u001b[0m\u001b[0;34m\u001b[0m\u001b[0m\n\u001b[1;32m      2\u001b[0m \u001b[0;32mfrom\u001b[0m \u001b[0msklearn\u001b[0m \u001b[0;32mimport\u001b[0m \u001b[0mtree\u001b[0m\u001b[0;34m\u001b[0m\u001b[0m\n\u001b[0;32m----> 3\u001b[0;31m \u001b[0;32mimport\u001b[0m \u001b[0mgraphviz\u001b[0m\u001b[0;34m\u001b[0m\u001b[0m\n\u001b[0m\u001b[1;32m      4\u001b[0m \u001b[0;34m\u001b[0m\u001b[0m\n\u001b[1;32m      5\u001b[0m \u001b[0mwine\u001b[0m \u001b[0;34m=\u001b[0m \u001b[0mload_wine\u001b[0m\u001b[0;34m(\u001b[0m\u001b[0;34m)\u001b[0m \u001b[0;31m#import dataset\u001b[0m\u001b[0;34m\u001b[0m\u001b[0m\n",
      "\u001b[0;31mModuleNotFoundError\u001b[0m: No module named 'graphviz'"
     ]
    }
   ],
   "source": [
    "from sklearn.datasets import *\n",
    "from sklearn import tree\n",
    "import graphviz \n",
    "\n",
    "wine = load_wine() #import dataset\n",
    "clf = tree.DecisionTreeClassifier(criterion= 'entropy') # init the tree\n",
    "clf = clf.fit(wine.data, wine.target) # Train the tree\n",
    "# export the trained decision tree\n",
    "dot_data = tree.export_graphviz(clf, out_file=None,\n",
    "                         feature_names=wine.feature_names,\n",
    "                         class_names=wine.target_names,\n",
    "                         filled=True, rounded=True,\n",
    "                         special_characters=True)\n",
    "graph = graphviz.Source(dot_data)\n",
    "graph.render(\"wine\") # tree saved to wine.pdf\n"
   ]
  },
  {
   "cell_type": "code",
   "execution_count": 11,
   "metadata": {},
   "outputs": [
    {
     "ename": "NameError",
     "evalue": "name 'graph' is not defined",
     "output_type": "error",
     "traceback": [
      "\u001b[0;31m\u001b[0m",
      "\u001b[0;31mNameError\u001b[0mTraceback (most recent call last)",
      "\u001b[0;32m<ipython-input-11-e7bca803254d>\u001b[0m in \u001b[0;36m<module>\u001b[0;34m()\u001b[0m\n\u001b[0;32m----> 1\u001b[0;31m \u001b[0mgraph\u001b[0m\u001b[0;34m\u001b[0m\u001b[0m\n\u001b[0m",
      "\u001b[0;31mNameError\u001b[0m: name 'graph' is not defined"
     ]
    }
   ],
   "source": [
    "graph"
   ]
  },
  {
   "cell_type": "code",
   "execution_count": null,
   "metadata": {},
   "outputs": [],
   "source": []
  }
 ],
 "metadata": {
  "kernelspec": {
   "display_name": "Python 3",
   "language": "python",
   "name": "python3"
  },
  "language_info": {
   "codemirror_mode": {
    "name": "ipython",
    "version": 3
   },
   "file_extension": ".py",
   "mimetype": "text/x-python",
   "name": "python",
   "nbconvert_exporter": "python",
   "pygments_lexer": "ipython3",
   "version": "3.6.6"
  }
 },
 "nbformat": 4,
 "nbformat_minor": 2
}
